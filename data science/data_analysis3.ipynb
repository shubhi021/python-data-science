{
 "cells": [
  {
   "cell_type": "code",
   "execution_count": 1,
   "metadata": {},
   "outputs": [],
   "source": [
    "import pandas as pd\n",
    "import numpy as np\n",
    "import matplotlib.pyplot as plt\n",
    "import os"
   ]
  },
  {
   "cell_type": "code",
   "execution_count": 2,
   "metadata": {},
   "outputs": [
    {
     "name": "stdout",
     "output_type": "stream",
     "text": [
      "<class 'pandas.core.frame.DataFrame'>\n",
      "Int64Index: 534 entries, 8 to 16\n",
      "Data columns (total 10 columns):\n",
      " #   Column      Non-Null Count  Dtype  \n",
      "---  ------      --------------  -----  \n",
      " 0   SOUTH       534 non-null    object \n",
      " 1   SEX         534 non-null    object \n",
      " 2   EXPERIENCE  534 non-null    int64  \n",
      " 3   UNION       534 non-null    object \n",
      " 4   WAGE        534 non-null    float64\n",
      " 5   AGE         534 non-null    int64  \n",
      " 6   RACE        534 non-null    object \n",
      " 7   OCCUPATION  534 non-null    object \n",
      " 8   SECTOR      534 non-null    object \n",
      " 9   MARR        534 non-null    object \n",
      "dtypes: float64(1), int64(2), object(7)\n",
      "memory usage: 45.9+ KB\n",
      "None\n"
     ]
    }
   ],
   "source": [
    "filepath='cps_85_wages.csv'\n",
    "if not os.path.exists(filepath):\n",
    "    print('File not found')\n",
    "else:\n",
    "    df=pd.read_csv(filepath,index_col=0)\n",
    "    print(df.info()) "
   ]
  },
  {
   "cell_type": "code",
   "execution_count": 3,
   "metadata": {},
   "outputs": [
    {
     "data": {
      "text/plain": [
       "Index(['SOUTH', 'SEX', 'EXPERIENCE', 'UNION', 'WAGE', 'AGE', 'RACE',\n",
       "       'OCCUPATION', 'SECTOR', 'MARR'],\n",
       "      dtype='object')"
      ]
     },
     "execution_count": 3,
     "metadata": {},
     "output_type": "execute_result"
    }
   ],
   "source": [
    "df.columns"
   ]
  },
  {
   "cell_type": "code",
   "execution_count": 13,
   "metadata": {},
   "outputs": [
    {
     "ename": "SyntaxError",
     "evalue": "invalid syntax (1212678333.py, line 1)",
     "output_type": "error",
     "traceback": [
      "\u001b[1;36m  Input \u001b[1;32mIn [13]\u001b[1;36m\u001b[0m\n\u001b[1;33m    df.plot(kind='scatter',x='AGE',y='EXPERIENCE',alpha=0.5'c='EXPERIENCE',alpha=0.5,c='EXPERIENCE',cmap='viridis',figsize=(10,7),marker='s',s='AGE',edgecolor='black')\u001b[0m\n\u001b[1;37m                                                           ^\u001b[0m\n\u001b[1;31mSyntaxError\u001b[0m\u001b[1;31m:\u001b[0m invalid syntax\n"
     ]
    }
   ],
   "source": [
    "df.plot(kind='scatter',x='AGE',y='EXPERIENCE',alpha=0.5',c='EXPERIENCE',alpha=0.5,c='EXPERIENCE',cmap='viridis',figsize=(10,7),marker='s',s='AGE',edgecolor='black')"
   ]
  },
  {
   "cell_type": "code",
   "execution_count": 14,
   "metadata": {},
   "outputs": [
    {
     "data": {
      "text/plain": [
       "'cps_85_wages'"
      ]
     },
     "execution_count": 14,
     "metadata": {},
     "output_type": "execute_result"
    }
   ],
   "source": [
    "df"
   ]
  },
  {
   "cell_type": "code",
   "execution_count": null,
   "metadata": {},
   "outputs": [],
   "source": [
    "#boxplot for visualization between union & experience"
   ]
  }
 ],
 "metadata": {
  "kernelspec": {
   "display_name": "Python 3.9.12 ('base')",
   "language": "python",
   "name": "python3"
  },
  "language_info": {
   "codemirror_mode": {
    "name": "ipython",
    "version": 3
   },
   "file_extension": ".py",
   "mimetype": "text/x-python",
   "name": "python",
   "nbconvert_exporter": "python",
   "pygments_lexer": "ipython3",
   "version": "3.9.12"
  },
  "orig_nbformat": 4,
  "vscode": {
   "interpreter": {
    "hash": "79d71d161e7943240a345005223b4b57f09b9732a24e4917a9c0467b3aef16ea"
   }
  }
 },
 "nbformat": 4,
 "nbformat_minor": 2
}
