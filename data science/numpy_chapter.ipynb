{
 "cells": [
  {
   "cell_type": "code",
   "execution_count": 2,
   "metadata": {},
   "outputs": [],
   "source": [
    "import numpy as np"
   ]
  },
  {
   "cell_type": "code",
   "execution_count": 3,
   "metadata": {},
   "outputs": [
    {
     "name": "stdout",
     "output_type": "stream",
     "text": [
      "[[1 2 3]\n",
      " [2 5 7]]\n",
      "6\n",
      "(2, 3)\n",
      "2\n"
     ]
    }
   ],
   "source": [
    "x2d=np.array([[1,2,3],[2,5,7]])\n",
    "print(x2d)\n",
    "#shape and size\n",
    "print(x2d.size)#total no.of elements\n",
    "print(x2d.shape)#\n",
    "print(x2d.ndim)#no. of dimensions"
   ]
  },
  {
   "cell_type": "code",
   "execution_count": 4,
   "metadata": {},
   "outputs": [
    {
     "name": "stdout",
     "output_type": "stream",
     "text": [
      "[[62 18  2 50 59]\n",
      " [45 16 96 82 12]\n",
      " [75 38 85 35 82]\n",
      " [92 19 83 67 43]\n",
      " [40  1 82  1 84]]\n"
     ]
    }
   ],
   "source": [
    "x25= np.random.randint(1,100,(5,5))\n",
    "print(x25)"
   ]
  },
  {
   "cell_type": "code",
   "execution_count": 7,
   "metadata": {},
   "outputs": [
    {
     "name": "stdout",
     "output_type": "stream",
     "text": [
      "25 elements\n",
      "<=1D MATRIX\n",
      "[ 1  5  9 13 17 21 25 29 33 37 41 45 49 53 57 61 65 69 73 77 81 85 89 93\n",
      " 97]\n",
      "25\n",
      "<=1D MATRIX RESHAPED TO 2D MATRIX\n",
      "[[ 1  5  9 13 17]\n",
      " [21 25 29 33 37]\n",
      " [41 45 49 53 57]\n",
      " [61 65 69 73 77]\n",
      " [81 85 89 93 97]]\n"
     ]
    }
   ],
   "source": [
    "xseql = np.arange(1,101,4)#4 gives the gap and beween 1 to 101\n",
    "print(xseql.size,\"elements\")\n",
    "print(\"<=1D MATRIX\")\n",
    "print(xseql)\n",
    "print(xseql.size)\n",
    "print(\"<=1D MATRIX RESHAPED TO 2D MATRIX\")\n",
    "print(xseql.reshape(5,5))"
   ]
  },
  {
   "cell_type": "code",
   "execution_count": 9,
   "metadata": {},
   "outputs": [
    {
     "name": "stdout",
     "output_type": "stream",
     "text": [
      "2 elements\n",
      "<=1D MATRIX\n",
      "[ 1 51]\n",
      "25\n",
      "<=1D MATRIX RESHAPED TO 2D MATRIX\n"
     ]
    },
    {
     "ename": "ValueError",
     "evalue": "cannot reshape array of size 25 into shape (10,5)",
     "output_type": "error",
     "traceback": [
      "\u001b[1;31m---------------------------------------------------------------------------\u001b[0m",
      "\u001b[1;31mValueError\u001b[0m                                Traceback (most recent call last)",
      "\u001b[1;32mc:\\Users\\hp\\Documents\\Python Data Science\\data science\\numpy_chapter.ipynb Cell 5\u001b[0m in \u001b[0;36m<cell line: 7>\u001b[1;34m()\u001b[0m\n\u001b[0;32m      <a href='vscode-notebook-cell:/c%3A/Users/hp/Documents/Python%20Data%20Science/data%20science/numpy_chapter.ipynb#W4sZmlsZQ%3D%3D?line=4'>5</a>\u001b[0m \u001b[39mprint\u001b[39m(xseql\u001b[39m.\u001b[39msize)\n\u001b[0;32m      <a href='vscode-notebook-cell:/c%3A/Users/hp/Documents/Python%20Data%20Science/data%20science/numpy_chapter.ipynb#W4sZmlsZQ%3D%3D?line=5'>6</a>\u001b[0m \u001b[39mprint\u001b[39m(\u001b[39m\"\u001b[39m\u001b[39m<=1D MATRIX RESHAPED TO 2D MATRIX\u001b[39m\u001b[39m\"\u001b[39m)\n\u001b[1;32m----> <a href='vscode-notebook-cell:/c%3A/Users/hp/Documents/Python%20Data%20Science/data%20science/numpy_chapter.ipynb#W4sZmlsZQ%3D%3D?line=6'>7</a>\u001b[0m \u001b[39mprint\u001b[39m(xseql\u001b[39m.\u001b[39;49mreshape(\u001b[39m10\u001b[39;49m,\u001b[39m5\u001b[39;49m)) \u001b[39m#returns matrix of (10,5)\u001b[39;00m\n\u001b[0;32m      <a href='vscode-notebook-cell:/c%3A/Users/hp/Documents/Python%20Data%20Science/data%20science/numpy_chapter.ipynb#W4sZmlsZQ%3D%3D?line=7'>8</a>\u001b[0m \u001b[39mprint\u001b[39m(\u001b[39m\"\u001b[39m\u001b[39m<=1D MATRIX RESHAPED TO 3D MATRIX\u001b[39m\u001b[39m\"\u001b[39m)\n\u001b[0;32m      <a href='vscode-notebook-cell:/c%3A/Users/hp/Documents/Python%20Data%20Science/data%20science/numpy_chapter.ipynb#W4sZmlsZQ%3D%3D?line=8'>9</a>\u001b[0m \u001b[39mprint\u001b[39m(xseq2\u001b[39m.\u001b[39mreshape(\u001b[39m5\u001b[39m,\u001b[39m5\u001b[39m,\u001b[39m2\u001b[39m))\n",
      "\u001b[1;31mValueError\u001b[0m: cannot reshape array of size 25 into shape (10,5)"
     ]
    }
   ],
   "source": [
    "xseq2 = np.arange(1,100,50)#4 gives the gap and beween 1 to 101\n",
    "print(xseq2.size,\"elements\")\n",
    "print(\"<=1D MATRIX\")\n",
    "print(xseq2)\n",
    "print(xseql.size)\n",
    "print(\"<=1D MATRIX RESHAPED TO 2D MATRIX\")\n",
    "print(xseql.reshape(10,5)) #returns matrix of (10,5)\n",
    "print(\"<=1D MATRIX RESHAPED TO 3D MATRIX\")\n",
    "print(xseq2.reshape(5,5,2))"
   ]
  },
  {
   "cell_type": "code",
   "execution_count": null,
   "metadata": {},
   "outputs": [],
   "source": [
    "xseq2d= xseq2d.reshape(10,5)\n",
    "print(xseq2d)"
   ]
  },
  {
   "cell_type": "code",
   "execution_count": null,
   "metadata": {},
   "outputs": [],
   "source": [
    "np.ones((2,5)),dtype=int #it prints 1 in 2*5 matrix"
   ]
  },
  {
   "cell_type": "markdown",
   "metadata": {},
   "source": [
    "indexing and slicing very important\n",
    "boolean filter\n",
    "maths and stats\n",
    "methods"
   ]
  },
  {
   "cell_type": "code",
   "execution_count": 10,
   "metadata": {},
   "outputs": [
    {
     "data": {
      "text/plain": [
       "array([[62, 18,  2, 50, 59],\n",
       "       [45, 16, 96, 82, 12],\n",
       "       [75, 38, 85, 35, 82],\n",
       "       [92, 19, 83, 67, 43],\n",
       "       [40,  1, 82,  1, 84]])"
      ]
     },
     "execution_count": 10,
     "metadata": {},
     "output_type": "execute_result"
    }
   ],
   "source": [
    "\n",
    "x25"
   ]
  },
  {
   "cell_type": "code",
   "execution_count": 11,
   "metadata": {},
   "outputs": [
    {
     "name": "stdout",
     "output_type": "stream",
     "text": [
      "[62 18  2 50 59]\n"
     ]
    }
   ],
   "source": [
    "#IF YOU WANT IST ROW.\n",
    "print(x25[0])"
   ]
  },
  {
   "cell_type": "code",
   "execution_count": 12,
   "metadata": {},
   "outputs": [
    {
     "name": "stdout",
     "output_type": "stream",
     "text": [
      "[40  1 82  1 84]\n"
     ]
    }
   ],
   "source": [
    "#for last row\n",
    "print(x25[-1])"
   ]
  },
  {
   "cell_type": "code",
   "execution_count": 13,
   "metadata": {},
   "outputs": [
    {
     "name": "stdout",
     "output_type": "stream",
     "text": [
      "18\n"
     ]
    }
   ],
   "source": [
    "print(x25[0,1]) #for second element in 1st row"
   ]
  },
  {
   "cell_type": "code",
   "execution_count": 15,
   "metadata": {},
   "outputs": [
    {
     "name": "stdout",
     "output_type": "stream",
     "text": [
      "[62 45 75 92 40]\n"
     ]
    }
   ],
   "source": [
    "#1st column\n",
    "print(x25[:,0])"
   ]
  },
  {
   "cell_type": "code",
   "execution_count": 16,
   "metadata": {},
   "outputs": [
    {
     "name": "stdout",
     "output_type": "stream",
     "text": [
      "[18 16 38 19  1]\n"
     ]
    }
   ],
   "source": [
    "#2nd column\n",
    "print(x25[:,1])"
   ]
  },
  {
   "cell_type": "code",
   "execution_count": 17,
   "metadata": {},
   "outputs": [
    {
     "name": "stdout",
     "output_type": "stream",
     "text": [
      "[59 12 82 43 84]\n"
     ]
    }
   ],
   "source": [
    "#last c0lumn\n",
    "print(x25[:,-1])"
   ]
  },
  {
   "cell_type": "code",
   "execution_count": 18,
   "metadata": {},
   "outputs": [
    {
     "name": "stdout",
     "output_type": "stream",
     "text": [
      "[[62 18]\n",
      " [45 16]\n",
      " [75 38]\n",
      " [92 19]\n",
      " [40  1]]\n"
     ]
    }
   ],
   "source": [
    "#column 0 and 1 index\n",
    "print(x25[:,[0,1]])"
   ]
  },
  {
   "cell_type": "code",
   "execution_count": 19,
   "metadata": {},
   "outputs": [
    {
     "name": "stdout",
     "output_type": "stream",
     "text": [
      "[[62 18  2]\n",
      " [45 16 96]\n",
      " [75 38 85]\n",
      " [92 19 83]\n",
      " [40  1 82]]\n",
      "[50 82 35 67  1]\n"
     ]
    }
   ],
   "source": [
    "#column 0,1,2 indexes\n",
    "print(x25[:,[0,1,2]])\n",
    "#same \n",
    "print(x25[:,3])"
   ]
  },
  {
   "cell_type": "markdown",
   "metadata": {},
   "source": [
    "boolean\n"
   ]
  },
  {
   "cell_type": "code",
   "execution_count": 20,
   "metadata": {},
   "outputs": [
    {
     "data": {
      "text/plain": [
       "array([[62, 18,  2, 50, 59],\n",
       "       [45, 16, 96, 82, 12],\n",
       "       [75, 38, 85, 35, 82],\n",
       "       [92, 19, 83, 67, 43],\n",
       "       [40,  1, 82,  1, 84]])"
      ]
     },
     "execution_count": 20,
     "metadata": {},
     "output_type": "execute_result"
    }
   ],
   "source": [
    "x25"
   ]
  },
  {
   "cell_type": "code",
   "execution_count": 23,
   "metadata": {},
   "outputs": [
    {
     "name": "stdout",
     "output_type": "stream",
     "text": [
      "18\n",
      "2\n",
      "16\n",
      "12\n",
      "19\n",
      "1\n",
      "1\n"
     ]
    }
   ],
   "source": [
    "#filtering without numpy boolean filter(bada idea)\n",
    "for i in x25:\n",
    "    for j in i:\n",
    "        if j<=20:\n",
    "          print(j)"
   ]
  },
  {
   "cell_type": "code",
   "execution_count": 24,
   "metadata": {},
   "outputs": [
    {
     "data": {
      "text/plain": [
       "array([[False,  True,  True, False, False],\n",
       "       [False,  True, False, False,  True],\n",
       "       [False, False, False, False, False],\n",
       "       [False,  True, False, False, False],\n",
       "       [False,  True, False,  True, False]])"
      ]
     },
     "execution_count": 24,
     "metadata": {},
     "output_type": "execute_result"
    }
   ],
   "source": [
    "x25<=20 #boolean filter"
   ]
  },
  {
   "cell_type": "code",
   "execution_count": 26,
   "metadata": {},
   "outputs": [
    {
     "data": {
      "text/plain": [
       "array([18,  2, 16, 12, 19,  1,  1])"
      ]
     },
     "execution_count": 26,
     "metadata": {},
     "output_type": "execute_result"
    }
   ],
   "source": [
    "x25[x25<=20]"
   ]
  },
  {
   "cell_type": "code",
   "execution_count": 28,
   "metadata": {},
   "outputs": [
    {
     "data": {
      "text/plain": [
       "array([62, 59, 96, 82, 75, 85, 82, 92, 83, 67, 82, 84])"
      ]
     },
     "execution_count": 28,
     "metadata": {},
     "output_type": "execute_result"
    }
   ],
   "source": [
    "x25[x25>50]"
   ]
  },
  {
   "cell_type": "code",
   "execution_count": 29,
   "metadata": {},
   "outputs": [
    {
     "data": {
      "text/plain": [
       "array([[ True, False, False,  True,  True],\n",
       "       [ True, False, False, False, False],\n",
       "       [False,  True, False,  True, False],\n",
       "       [False, False, False,  True,  True],\n",
       "       [ True, False, False, False, False]])"
      ]
     },
     "execution_count": 29,
     "metadata": {},
     "output_type": "execute_result"
    }
   ],
   "source": [
    "(x25>20) & (x25<70)"
   ]
  },
  {
   "cell_type": "code",
   "execution_count": 30,
   "metadata": {},
   "outputs": [
    {
     "data": {
      "text/plain": [
       "array([62, 50, 59, 45, 38, 35, 67, 43, 40])"
      ]
     },
     "execution_count": 30,
     "metadata": {},
     "output_type": "execute_result"
    }
   ],
   "source": [
    "x25[(x25>20) & (x25<70)]"
   ]
  },
  {
   "cell_type": "code",
   "execution_count": 33,
   "metadata": {},
   "outputs": [
    {
     "data": {
      "text/plain": [
       "array([62, 18,  2, 50, 59, 45, 16, 96, 82, 12, 75, 38, 85, 35, 82, 92, 19,\n",
       "       83, 67, 43, 40,  1, 82,  1, 84,  1,  2,  3,  4,  5])"
      ]
     },
     "execution_count": 33,
     "metadata": {},
     "output_type": "execute_result"
    }
   ],
   "source": [
    "#for append in numpy\n",
    "np.append(x25,[1,2,3,4,5]) # it just add the value after it and make it 1D matrix"
   ]
  },
  {
   "cell_type": "code",
   "execution_count": 35,
   "metadata": {},
   "outputs": [
    {
     "data": {
      "text/plain": [
       "array([[62, 18,  2, 50, 59],\n",
       "       [45, 16, 96, 82, 12],\n",
       "       [75, 38, 85, 35, 82],\n",
       "       [92, 19, 83, 67, 43],\n",
       "       [40,  1, 82,  1, 84],\n",
       "       [ 1,  2,  3,  4,  5]])"
      ]
     },
     "execution_count": 35,
     "metadata": {},
     "output_type": "execute_result"
    }
   ],
   "source": [
    "np.append(x25, np.array([[1,2,3,4,5]]),axis=0)#0in axis means row wise evaluatiom and 1 means column wise evaluation"
   ]
  },
  {
   "cell_type": "code",
   "execution_count": 36,
   "metadata": {},
   "outputs": [
    {
     "data": {
      "text/plain": [
       "array([[62, 18,  2, 50, 59,  1],\n",
       "       [45, 16, 96, 82, 12,  2],\n",
       "       [75, 38, 85, 35, 82,  3],\n",
       "       [92, 19, 83, 67, 43,  4],\n",
       "       [40,  1, 82,  1, 84,  5]])"
      ]
     },
     "execution_count": 36,
     "metadata": {},
     "output_type": "execute_result"
    }
   ],
   "source": [
    "np.append(x25, np.array([[1],[2],[3],[4],[5]]),axis=1) #for combing in column form write in different brackets."
   ]
  },
  {
   "cell_type": "code",
   "execution_count": 48,
   "metadata": {},
   "outputs": [
    {
     "ename": "ValueError",
     "evalue": "operands could not be broadcast together with shapes (3,2) (2,3) ",
     "output_type": "error",
     "traceback": [
      "\u001b[1;31m---------------------------------------------------------------------------\u001b[0m",
      "\u001b[1;31mValueError\u001b[0m                                Traceback (most recent call last)",
      "\u001b[1;32mc:\\Users\\hp\\Documents\\Python Data Science\\data science\\numpy_chapter.ipynb Cell 29\u001b[0m in \u001b[0;36m<cell line: 4>\u001b[1;34m()\u001b[0m\n\u001b[0;32m      <a href='vscode-notebook-cell:/c%3A/Users/hp/Documents/Python%20Data%20Science/data%20science/numpy_chapter.ipynb#X40sZmlsZQ%3D%3D?line=1'>2</a>\u001b[0m a \u001b[39m=\u001b[39m np\u001b[39m.\u001b[39mrandom\u001b[39m.\u001b[39mrandint(\u001b[39m1\u001b[39m,\u001b[39m100\u001b[39m,(\u001b[39m3\u001b[39m,\u001b[39m2\u001b[39m))\n\u001b[0;32m      <a href='vscode-notebook-cell:/c%3A/Users/hp/Documents/Python%20Data%20Science/data%20science/numpy_chapter.ipynb#X40sZmlsZQ%3D%3D?line=2'>3</a>\u001b[0m b\u001b[39m=\u001b[39m np\u001b[39m.\u001b[39mrandom\u001b[39m.\u001b[39mrandint(\u001b[39m1\u001b[39m,\u001b[39m100\u001b[39m,(\u001b[39m2\u001b[39m,\u001b[39m3\u001b[39m))\n\u001b[1;32m----> <a href='vscode-notebook-cell:/c%3A/Users/hp/Documents/Python%20Data%20Science/data%20science/numpy_chapter.ipynb#X40sZmlsZQ%3D%3D?line=3'>4</a>\u001b[0m \u001b[39mprint\u001b[39m(a\u001b[39m*\u001b[39;49mb)\n",
      "\u001b[1;31mValueError\u001b[0m: operands could not be broadcast together with shapes (3,2) (2,3) "
     ]
    }
   ],
   "source": [
    "#for matrix 2*3 and 3*2\n",
    "a = np.random.randint(1,100,(3,2))\n",
    "b= np.random.randint(1,100,(2,3))"
   ]
  },
  {
   "cell_type": "code",
   "execution_count": 41,
   "metadata": {},
   "outputs": [
    {
     "name": "stdout",
     "output_type": "stream",
     "text": [
      "(3, 2)\n",
      "(2, 3)\n"
     ]
    }
   ],
   "source": [
    "print(a.shape)\n",
    "print(b.shape)"
   ]
  },
  {
   "cell_type": "code",
   "execution_count": 42,
   "metadata": {},
   "outputs": [
    {
     "data": {
      "text/plain": [
       "array([[65,  9,  1],\n",
       "       [17, 92, 84]])"
      ]
     },
     "execution_count": 42,
     "metadata": {},
     "output_type": "execute_result"
    }
   ],
   "source": [
    "a.T #IT STACKS AND TRANSPOSE THE MATRIX(a.transpose and a.T are same thing)"
   ]
  },
  {
   "cell_type": "code",
   "execution_count": 43,
   "metadata": {},
   "outputs": [
    {
     "name": "stdout",
     "output_type": "stream",
     "text": [
      "[[65 17 77 48]\n",
      " [ 9 92 15 16]\n",
      " [ 1 84 94  7]]\n"
     ]
    }
   ],
   "source": [
    "print(np.hstack((a,b.T))) #hstack means it stacks horizontally"
   ]
  },
  {
   "cell_type": "code",
   "execution_count": 45,
   "metadata": {},
   "outputs": [
    {
     "name": "stdout",
     "output_type": "stream",
     "text": [
      "[[65  9  1 77 15 94]\n",
      " [17 92 84 48 16  7]]\n"
     ]
    }
   ],
   "source": [
    "print(np.hstack((a.T,b)))"
   ]
  },
  {
   "cell_type": "code",
   "execution_count": 47,
   "metadata": {},
   "outputs": [
    {
     "name": "stdout",
     "output_type": "stream",
     "text": [
      "[[65 17]\n",
      " [ 9 92]\n",
      " [ 1 84]\n",
      " [77 48]\n",
      " [15 16]\n",
      " [94  7]]\n",
      "[[65  9  1]\n",
      " [17 92 84]\n",
      " [77 15 94]\n",
      " [48 16  7]]\n"
     ]
    }
   ],
   "source": [
    "print(np.vstack((a,b.T)))#VSTACK IS VERTICAL STACK \n",
    "print(np.vstack((a.T,b)))"
   ]
  },
  {
   "cell_type": "code",
   "execution_count": null,
   "metadata": {},
   "outputs": [],
   "source": [
    "x=np.random.randint(1,10,(3,3))\n",
    "y=np.random.randint(1,10,(3,3))\n",
    "print(x)\n",
    "print()\n",
    "print(y)\n"
   ]
  },
  {
   "cell_type": "code",
   "execution_count": null,
   "metadata": {},
   "outputs": [],
   "source": [
    "print('add')\n",
    "print(x+y)\n",
    "print('sub')\n",
    "print(x-y)\n",
    "print('div')\n",
    "print(x/y)\n",
    "print('element wise multiplication')\n",
    "print(x*y)\n",
    "print('element wise mod')\n",
    "print(x%y)"
   ]
  },
  {
   "cell_type": "code",
   "execution_count": null,
   "metadata": {},
   "outputs": [],
   "source": [
    "print(x.min())#max value\n"
   ]
  }
 ],
 "metadata": {
  "kernelspec": {
   "display_name": "Python 3.9.12 ('base')",
   "language": "python",
   "name": "python3"
  },
  "language_info": {
   "codemirror_mode": {
    "name": "ipython",
    "version": 3
   },
   "file_extension": ".py",
   "mimetype": "text/x-python",
   "name": "python",
   "nbconvert_exporter": "python",
   "pygments_lexer": "ipython3",
   "version": "3.9.12"
  },
  "orig_nbformat": 4,
  "vscode": {
   "interpreter": {
    "hash": "79d71d161e7943240a345005223b4b57f09b9732a24e4917a9c0467b3aef16ea"
   }
  }
 },
 "nbformat": 4,
 "nbformat_minor": 2
}
