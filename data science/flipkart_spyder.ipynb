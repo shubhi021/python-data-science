{
 "cells": [
  {
   "cell_type": "code",
   "execution_count": 5,
   "metadata": {},
   "outputs": [],
   "source": [
    "from dputils import scrape\n",
    "\n",
    "#step 1 get the data as soup object\n",
    "#step 2.Create the step dictionaries.(most important)\n",
    "#step 3. press the dictionaries into the extract_many() function\n",
    "#step 4. report step 1 to step 3 until data keep coming.\n",
    "#step 5. check and save the data into a file.\n",
    "\n",
    "\n",
    "#step 1\n",
    "query = 'laptops'\n",
    "pos= 1\n",
    "url= f'https://www.flipkart.com/search?q={query}&page={pos}'\n",
    "soup = scrape.get_webpage_data(url)\n",
    "\n",
    "#step 2\n",
    "#target dict,items dict,etc\n",
    "t= {'tag':'div' , 'attrs':{'class':'1YokD2 _3Mn1Gg'}}\n"
   ]
  }
 ],
 "metadata": {
  "kernelspec": {
   "display_name": "Python 3.9.12 ('base')",
   "language": "python",
   "name": "python3"
  },
  "language_info": {
   "codemirror_mode": {
    "name": "ipython",
    "version": 3
   },
   "file_extension": ".py",
   "mimetype": "text/x-python",
   "name": "python",
   "nbconvert_exporter": "python",
   "pygments_lexer": "ipython3",
   "version": "3.9.12"
  },
  "orig_nbformat": 4,
  "vscode": {
   "interpreter": {
    "hash": "79d71d161e7943240a345005223b4b57f09b9732a24e4917a9c0467b3aef16ea"
   }
  }
 },
 "nbformat": 4,
 "nbformat_minor": 2
}
