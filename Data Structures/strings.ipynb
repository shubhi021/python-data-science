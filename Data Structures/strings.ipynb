{
 "cells": [
  {
   "cell_type": "markdown",
   "metadata": {},
   "source": [
    "concatenation\n"
   ]
  },
  {
   "cell_type": "code",
   "execution_count": 64,
   "metadata": {},
   "outputs": [
    {
     "name": "stdout",
     "output_type": "stream",
     "text": [
      "applejuice\n"
     ]
    }
   ],
   "source": [
    "a = 'apple'\n",
    "b = 'juice'\n",
    "ab = a+b\n",
    "print(ab)"
   ]
  },
  {
   "cell_type": "code",
   "execution_count": 65,
   "metadata": {},
   "outputs": [
    {
     "name": "stdout",
     "output_type": "stream",
     "text": [
      "this is amazing\n"
     ]
    }
   ],
   "source": [
    "w1 = 'this'\n",
    "w2 = ' is '\n",
    "w3 = 'amazing'\n",
    "w=w1+w2+w3\n",
    "print(w)"
   ]
  },
  {
   "cell_type": "markdown",
   "metadata": {},
   "source": [
    "duplication"
   ]
  },
  {
   "cell_type": "code",
   "execution_count": 66,
   "metadata": {},
   "outputs": [
    {
     "name": "stdout",
     "output_type": "stream",
     "text": [
      "hihihi\n"
     ]
    }
   ],
   "source": [
    "word = 'hi'\n",
    "print(word*3)"
   ]
  },
  {
   "cell_type": "code",
   "execution_count": 67,
   "metadata": {},
   "outputs": [
    {
     "name": "stdout",
     "output_type": "stream",
     "text": [
      "----------\n"
     ]
    }
   ],
   "source": [
    "print('-'*10)"
   ]
  },
  {
   "cell_type": "markdown",
   "metadata": {},
   "source": [
    "pattern printing"
   ]
  },
  {
   "cell_type": "code",
   "execution_count": 68,
   "metadata": {},
   "outputs": [
    {
     "name": "stdout",
     "output_type": "stream",
     "text": [
      " * \n",
      " *  * \n",
      " *  *  * \n",
      " *  *  *  * \n",
      " *  *  *  *  * \n"
     ]
    }
   ],
   "source": [
    "for i in range (1,6):\n",
    "    print(i * ' * ')"
   ]
  },
  {
   "cell_type": "code",
   "execution_count": 69,
   "metadata": {},
   "outputs": [
    {
     "name": "stdout",
     "output_type": "stream",
     "text": [
      " *  *  *  *  *  * \n",
      " *  *  *  *  * \n",
      " *  *  *  * \n",
      " *  *  * \n",
      " *  * \n",
      " * \n"
     ]
    }
   ],
   "source": [
    "for i in range(6,0,-1):\n",
    "    print(i*' * ')\n"
   ]
  },
  {
   "cell_type": "markdown",
   "metadata": {},
   "source": [
    "string function/methods"
   ]
  },
  {
   "cell_type": "code",
   "execution_count": 70,
   "metadata": {},
   "outputs": [],
   "source": [
    "name = \"shubhi\"\n",
    "age = 19\n",
    "items = ['apple','orange','grapes']"
   ]
  },
  {
   "cell_type": "markdown",
   "metadata": {},
   "source": [
    "formatting faunctions\n"
   ]
  },
  {
   "cell_type": "code",
   "execution_count": 71,
   "metadata": {},
   "outputs": [],
   "source": [
    "msg = 'This Is A message from VERY imporTANT person'"
   ]
  },
  {
   "cell_type": "code",
   "execution_count": 72,
   "metadata": {},
   "outputs": [
    {
     "name": "stdout",
     "output_type": "stream",
     "text": [
      "THIS IS A MESSAGE FROM VERY IMPORTANT PERSON\n",
      "this is a message from very important person\n",
      "This Is A Message From Very Important Person\n",
      "This is a message from very important person\n",
      "this is a message from very important person\n",
      "tHIS iS a MESSAGE FROM very IMPORtant PERSON\n",
      "This Is A message from VERY imporTANT person\n"
     ]
    }
   ],
   "source": [
    "print(msg.upper())\n",
    "print(msg.lower())\n",
    "print(msg.title())\n",
    "print(msg.capitalize())\n",
    "print(msg.casefold())# it is same as lower()function\n",
    "print(msg.swapcase())\n",
    "print(msg)"
   ]
  },
  {
   "cell_type": "code",
   "execution_count": 73,
   "metadata": {},
   "outputs": [
    {
     "name": "stdout",
     "output_type": "stream",
     "text": [
      "THIS IS A MESSAGE FROM VERY IMPORTANT PERSON\n",
      "this is a message from very important person\n"
     ]
    }
   ],
   "source": [
    "msg = msg.upper()\n",
    "print(msg)\n",
    "msg = msg.lower()\n",
    "print(msg)"
   ]
  },
  {
   "cell_type": "markdown",
   "metadata": {},
   "source": [
    "Alignment"
   ]
  },
  {
   "cell_type": "code",
   "execution_count": 74,
   "metadata": {},
   "outputs": [
    {
     "data": {
      "text/plain": [
       "44"
      ]
     },
     "execution_count": 74,
     "metadata": {},
     "output_type": "execute_result"
    }
   ],
   "source": [
    "len (msg)"
   ]
  },
  {
   "cell_type": "code",
   "execution_count": 75,
   "metadata": {},
   "outputs": [
    {
     "name": "stdout",
     "output_type": "stream",
     "text": [
      "this is a message from very important person\n"
     ]
    }
   ],
   "source": [
    "print(msg)"
   ]
  },
  {
   "cell_type": "code",
   "execution_count": 76,
   "metadata": {},
   "outputs": [
    {
     "name": "stdout",
     "output_type": "stream",
     "text": [
      "this is a message from very important person                                    \n"
     ]
    }
   ],
   "source": [
    "print(msg.ljust(80))"
   ]
  },
  {
   "cell_type": "code",
   "execution_count": 77,
   "metadata": {},
   "outputs": [
    {
     "name": "stdout",
     "output_type": "stream",
     "text": [
      "                                    this is a message from very important person\n"
     ]
    }
   ],
   "source": [
    "print(msg.rjust(80))"
   ]
  },
  {
   "cell_type": "code",
   "execution_count": 78,
   "metadata": {},
   "outputs": [
    {
     "name": "stdout",
     "output_type": "stream",
     "text": [
      "                            this is a message from very important person                            \n"
     ]
    }
   ],
   "source": [
    "print (msg.center(100)) #"
   ]
  },
  {
   "cell_type": "code",
   "execution_count": 79,
   "metadata": {},
   "outputs": [],
   "source": [
    "long_msg='''\n",
    " visual code is a lightwieght\n",
    " but powerful source code editor which \n",
    " runs on your computer. and is \n",
    " available on your window\n",
    " '''"
   ]
  },
  {
   "cell_type": "code",
   "execution_count": 80,
   "metadata": {},
   "outputs": [
    {
     "data": {
      "text/plain": [
       "'\\n visual code is a lightwieght\\n but powerful source code editor which \\n runs on your computer. and is \\n available on your window\\n '"
      ]
     },
     "execution_count": 80,
     "metadata": {},
     "output_type": "execute_result"
    }
   ],
   "source": [
    "long_msg "
   ]
  },
  {
   "cell_type": "code",
   "execution_count": 81,
   "metadata": {},
   "outputs": [
    {
     "name": "stdout",
     "output_type": "stream",
     "text": [
      "                                                                                                    \n",
      "                                                                        visual code is a lightwieght\n",
      "                                                              but powerful source code editor which \n",
      "                                                                      runs on your computer. and is \n",
      "                                                                            available on your window\n",
      "                                                                                                    \n"
     ]
    }
   ],
   "source": [
    "for line in long_msg.split('\\n'):\n",
    "    print(line.rjust(100))"
   ]
  },
  {
   "cell_type": "code",
   "execution_count": 82,
   "metadata": {},
   "outputs": [
    {
     "data": {
      "text/plain": [
       "['this is a m', 'ssag', ' from v', 'ry important p', 'rson']"
      ]
     },
     "execution_count": 82,
     "metadata": {},
     "output_type": "execute_result"
    }
   ],
   "source": [
    "msg.split('e')\n"
   ]
  },
  {
   "cell_type": "code",
   "execution_count": 83,
   "metadata": {},
   "outputs": [
    {
     "data": {
      "text/plain": [
       "['',\n",
       " ' visual code is a lightwieght',\n",
       " ' but powerful source code editor which ',\n",
       " ' runs on your computer. and is ',\n",
       " ' available on your window',\n",
       " ' ']"
      ]
     },
     "execution_count": 83,
     "metadata": {},
     "output_type": "execute_result"
    }
   ],
   "source": [
    "long_msg.split('\\n')"
   ]
  },
  {
   "cell_type": "code",
   "execution_count": 84,
   "metadata": {},
   "outputs": [
    {
     "data": {
      "text/plain": [
       "['\\n visual code is a lightwieght\\n but powerful source code editor which \\n runs on your computer',\n",
       " ' and is \\n available on your window\\n ']"
      ]
     },
     "execution_count": 84,
     "metadata": {},
     "output_type": "execute_result"
    }
   ],
   "source": [
    "long_msg.split('.')"
   ]
  },
  {
   "cell_type": "code",
   "execution_count": 85,
   "metadata": {},
   "outputs": [
    {
     "data": {
      "text/plain": [
       "['this', 'is', 'a', 'message', 'from', 'very important person']"
      ]
     },
     "execution_count": 85,
     "metadata": {},
     "output_type": "execute_result"
    }
   ],
   "source": [
    "msg.split(maxsplit=5)"
   ]
  },
  {
   "cell_type": "code",
   "execution_count": 86,
   "metadata": {},
   "outputs": [
    {
     "data": {
      "text/plain": [
       "['this is a message from', 'very', 'important', 'person']"
      ]
     },
     "execution_count": 86,
     "metadata": {},
     "output_type": "execute_result"
    }
   ],
   "source": [
    "msg.rsplit(maxsplit=3)# it splits in reverse order and rest in one block"
   ]
  },
  {
   "cell_type": "code",
   "execution_count": 87,
   "metadata": {},
   "outputs": [
    {
     "name": "stdout",
     "output_type": "stream",
     "text": [
      "8 shubhiii\n",
      "8 shubhiii\n"
     ]
    }
   ],
   "source": [
    "name = input('enter your name?')\n",
    "print(len(name),name)\n",
    "name = name.strip()\n",
    "print(len(name),name)"
   ]
  },
  {
   "cell_type": "code",
   "execution_count": 88,
   "metadata": {},
   "outputs": [
    {
     "data": {
      "text/plain": [
       "'LA'"
      ]
     },
     "execution_count": 88,
     "metadata": {},
     "output_type": "execute_result"
    }
   ],
   "source": [
    "data = '00000000000LA00000'\n",
    "data.strip('0')"
   ]
  },
  {
   "cell_type": "code",
   "execution_count": 89,
   "metadata": {},
   "outputs": [
    {
     "data": {
      "text/plain": [
       "'this is----not---good'"
      ]
     },
     "execution_count": 89,
     "metadata": {},
     "output_type": "execute_result"
    }
   ],
   "source": [
    "data = '---------this is----not---good------'\n",
    "data.strip('-')"
   ]
  },
  {
   "cell_type": "code",
   "execution_count": 90,
   "metadata": {},
   "outputs": [
    {
     "name": "stdout",
     "output_type": "stream",
     "text": [
      "this is----not---good\n"
     ]
    },
    {
     "data": {
      "text/plain": [
       "'this is----not---good------'"
      ]
     },
     "execution_count": 90,
     "metadata": {},
     "output_type": "execute_result"
    }
   ],
   "source": [
    "data = '---------this is----not---good------'\n",
    "print(data.strip('-'))\n",
    "data.rstrip('-')\n",
    "data.lstrip('-')\n"
   ]
  },
  {
   "cell_type": "code",
   "execution_count": 91,
   "metadata": {},
   "outputs": [
    {
     "name": "stdout",
     "output_type": "stream",
     "text": [
      "\n",
      " visual code is a lightwieght\n",
      " but powerful source code editor which \n",
      " runs on your computer. and is \n",
      " available on your window\n",
      " \n",
      "updated--------------->\n",
      "\n",
      " vosual code os a loghtwoeght\n",
      " but powerful source code edotor whoch \n",
      " runs on your computer. and os \n",
      " avaolable on your wondow\n",
      " \n"
     ]
    }
   ],
   "source": [
    "print(long_msg)\n",
    "print('updated--------------->')\n",
    "print (long_msg.replace('i','o'))"
   ]
  },
  {
   "cell_type": "code",
   "execution_count": 92,
   "metadata": {},
   "outputs": [
    {
     "name": "stdout",
     "output_type": "stream",
     "text": [
      "this isnotgood\n"
     ]
    }
   ],
   "source": [
    "data_clean= data.replace('-','')\n",
    "print(data_clean)"
   ]
  },
  {
   "cell_type": "markdown",
   "metadata": {},
   "source": [
    "4597"
   ]
  },
  {
   "cell_type": "code",
   "execution_count": null,
   "metadata": {},
   "outputs": [],
   "source": []
  },
  {
   "cell_type": "code",
   "execution_count": null,
   "metadata": {},
   "outputs": [],
   "source": []
  },
  {
   "cell_type": "code",
   "execution_count": 93,
   "metadata": {},
   "outputs": [
    {
     "name": "stdout",
     "output_type": "stream",
     "text": [
      "3\n",
      "14\n",
      "99\n"
     ]
    }
   ],
   "source": [
    "q = 'is'\n",
    "start=0\n",
    "while True:\n",
    "    pos = long_msg.find(q,start)\n",
    "    start=pos+1\n",
    "    if pos == -1:\n",
    "        break\n",
    "    print(pos)"
   ]
  },
  {
   "cell_type": "markdown",
   "metadata": {},
   "source": [
    "wap to find all indexes of all voewls(a,e,i,o,u)"
   ]
  },
  {
   "cell_type": "code",
   "execution_count": 94,
   "metadata": {},
   "outputs": [
    {
     "name": "stdout",
     "output_type": "stream",
     "text": [
      "vowel a: 6\n",
      "vowel a: 17\n",
      "vowel a: 95\n",
      "vowel a: 104\n",
      "vowel a: 106\n",
      "vowel a: 109\n",
      "vowel e: 12\n",
      "vowel e: 26\n",
      "vowel e: 39\n",
      "vowel e: 50\n",
      "vowel e: 55\n",
      "vowel e: 57\n",
      "vowel e: 91\n",
      "vowel e: 112\n",
      "vowel i: 3\n",
      "vowel i: 14\n",
      "vowel i: 20\n",
      "vowel i: 25\n",
      "vowel i: 59\n",
      "vowel i: 66\n",
      "vowel i: 99\n",
      "vowel i: 107\n",
      "vowel i: 123\n",
      "vowel o: 10\n",
      "vowel o: 37\n",
      "vowel o: 46\n",
      "vowel o: 53\n",
      "vowel o: 61\n",
      "vowel o: 77\n",
      "vowel o: 81\n",
      "vowel o: 86\n",
      "vowel o: 114\n",
      "vowel o: 118\n",
      "vowel o: 126\n",
      "vowel u: 5\n",
      "vowel u: 33\n",
      "vowel u: 42\n",
      "vowel u: 47\n",
      "vowel u: 73\n",
      "vowel u: 82\n",
      "vowel u: 89\n",
      "vowel u: 119\n"
     ]
    }
   ],
   "source": [
    "for vowel in \"aeiou\":\n",
    "    start=0\n",
    "    while True:\n",
    "        pos = long_msg.find(vowel,start)\n",
    "        start=pos+1\n",
    "        if pos == -1:\n",
    "            break\n",
    "        print(f\"vowel {vowel}: {pos}\") #formatted string \n"
   ]
  },
  {
   "cell_type": "code",
   "execution_count": 95,
   "metadata": {},
   "outputs": [
    {
     "name": "stdout",
     "output_type": "stream",
     "text": [
      "shubhii\n",
      "numeric: False\n",
      "alphabets: True\n",
      "alphanumeric: True\n",
      "only spaces: False\n",
      "only upper cases: False\n",
      "only lower case: True\n",
      "capitalized: False\n",
      "Decimal numbers: False\n"
     ]
    }
   ],
   "source": [
    "msg = input(\"enter string\")\n",
    "print(msg)\n",
    "print(\"numeric:\",msg.isnumeric())\n",
    "print(\"alphabets:\",msg.isalpha())\n",
    "print(\"alphanumeric:\",msg.isalnum())\n",
    "print(\"only spaces:\",msg.isspace())\n",
    "print(\"only upper cases:\",msg.isupper())\n",
    "print(\"only lower case:\",msg.islower())\n",
    "print(\"capitalized:\",msg.istitle())\n",
    "print(\"Decimal numbers:\",msg.isdecimal())\n"
   ]
  },
  {
   "cell_type": "markdown",
   "metadata": {},
   "source": [
    "1.COUNT THE NUMBER OF VOWELS IN A STRING\n",
    "2.REMOVE ALL THE VOWELS IN A STRING.\n",
    "3.WAP TO GET FIRST N WORDS FROM STRING.WHERE N IS A NUMBER GIVEN BY THE USER."
   ]
  },
  {
   "cell_type": "code",
   "execution_count": 96,
   "metadata": {},
   "outputs": [
    {
     "name": "stdout",
     "output_type": "stream",
     "text": [
      "number of vowels in the string are 2\n"
     ]
    }
   ],
   "source": [
    "msg = input (\"enter string\")\n",
    "for vowel in \"aeiou\":\n",
    "    start=0\n",
    "    c=0\n",
    "    while True:\n",
    "        pos = msg.find(vowel,start)\n",
    "        start=pos+1\n",
    "        c=c+1\n",
    "        if pos == -1:\n",
    "            break\n",
    "print(\"number of vowels in the string are\",c)#mine\n"
   ]
  },
  {
   "cell_type": "markdown",
   "metadata": {},
   "source": [
    "vowel count"
   ]
  },
  {
   "cell_type": "code",
   "execution_count": 97,
   "metadata": {},
   "outputs": [
    {
     "name": "stdout",
     "output_type": "stream",
     "text": [
      "a:6\n",
      "e:8\n",
      "i:9\n",
      "o:11\n",
      "u:8\n"
     ]
    }
   ],
   "source": [
    "vowels =\"aeiou\"\n",
    "for v in vowels:\n",
    "    c=long_msg.count(v)\n",
    "    print(f'{v}:{c}')"
   ]
  },
  {
   "cell_type": "markdown",
   "metadata": {},
   "source": [
    "remove all vowel"
   ]
  },
  {
   "cell_type": "code",
   "execution_count": 98,
   "metadata": {},
   "outputs": [
    {
     "name": "stdout",
     "output_type": "stream",
     "text": [
      "\n",
      " vsl cd s  lghtwght\n",
      " bt pwrfl src cd dtr whch \n",
      " rns n yr cmptr. nd s \n",
      " vlbl n yr wndw\n",
      " \n"
     ]
    }
   ],
   "source": [
    "msg = long_msg # copy the string\n",
    "vowels = \"aeiou\"\n",
    "for v in vowels:\n",
    "    msg = msg.replace(v,'')\n",
    "print(msg)"
   ]
  },
  {
   "cell_type": "markdown",
   "metadata": {},
   "source": [
    "first n words"
   ]
  },
  {
   "cell_type": "code",
   "execution_count": 99,
   "metadata": {},
   "outputs": [
    {
     "name": "stdout",
     "output_type": "stream",
     "text": [
      "['visual', 'code', 'is', 'a', 'lightwieght', 'but', 'powerful', 'source', 'code', 'editor']\n"
     ]
    }
   ],
   "source": [
    "word_count = int (input(\"how many words ?\"))\n",
    "words = long_msg.split()[:word_count]\n",
    "print(words)"
   ]
  },
  {
   "cell_type": "markdown",
   "metadata": {},
   "source": [
    "display the size of each word in the string and find the longest word."
   ]
  },
  {
   "cell_type": "code",
   "execution_count": 104,
   "metadata": {},
   "outputs": [
    {
     "name": "stdout",
     "output_type": "stream",
     "text": [
      "visual 6\n",
      "code 4\n",
      "is 2\n",
      "a 1\n",
      "lightwieght 11\n",
      "but 3\n",
      "powerful 8\n",
      "source 6\n",
      "code 4\n",
      "editor 6\n",
      "which 5\n",
      "runs 4\n",
      "on 2\n",
      "your 4\n",
      "computer. 9\n",
      "and 3\n",
      "is 2\n",
      "available 9\n",
      "on 2\n",
      "your 4\n",
      "window 6\n",
      "biggest word i lightwieght with 11 characters\n"
     ]
    }
   ],
   "source": [
    "m=0\n",
    "w=0\n",
    "for word in long_msg.split():\n",
    "    print(word,len(word))\n",
    "    if len(word) > m:\n",
    "        m = len(word)\n",
    "        w = word\n",
    "\n",
    "print(f'biggest word i {w} with {m} characters')"
   ]
  }
 ],
 "metadata": {
  "kernelspec": {
   "display_name": "Python 3.9.12 ('base')",
   "language": "python",
   "name": "python3"
  },
  "language_info": {
   "codemirror_mode": {
    "name": "ipython",
    "version": 3
   },
   "file_extension": ".py",
   "mimetype": "text/x-python",
   "name": "python",
   "nbconvert_exporter": "python",
   "pygments_lexer": "ipython3",
   "version": "3.9.12"
  },
  "orig_nbformat": 4,
  "vscode": {
   "interpreter": {
    "hash": "79d71d161e7943240a345005223b4b57f09b9732a24e4917a9c0467b3aef16ea"
   }
  }
 },
 "nbformat": 4,
 "nbformat_minor": 2
}
