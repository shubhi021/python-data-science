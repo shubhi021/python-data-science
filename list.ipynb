{
 "cells": [
  {
   "cell_type": "markdown",
   "metadata": {},
   "source": [
    "mean median min max\n"
   ]
  },
  {
   "cell_type": "code",
   "execution_count": null,
   "metadata": {},
   "outputs": [],
   "source": []
  },
  {
   "cell_type": "code",
   "execution_count": null,
   "metadata": {},
   "outputs": [
    {
     "name": "stdout",
     "output_type": "stream",
     "text": [
      "4.5\n",
      "2\n",
      "9\n"
     ]
    }
   ],
   "source": [
    "x =[2,3,4,5,6,7,8,9,3,2,5,3,2,4]\n",
    "mean = sum(x)/len (x)\n",
    "print(mean)\n",
    "\n",
    "#median\n",
    "x.sort()\n",
    "if len(x)%2==0:\n",
    "    median = (x[len(x)//2]+ x[len(x)//2 -1])/2\n",
    "else:\n",
    "    median = x[len(x)//2]   \n",
    "\n",
    "#min\n",
    "print(min(x))\n",
    "\n",
    "#max\n",
    "print(max(x))"
   ]
  },
  {
   "cell_type": "markdown",
   "metadata": {},
   "source": [
    "add to list together and make a new list together\n",
    "for eg- [1,2,3] \n",
    "        [3,2,1]\n",
    "    ans=[4,4,4]    \n"
   ]
  },
  {
   "cell_type": "code",
   "execution_count": null,
   "metadata": {},
   "outputs": [
    {
     "name": "stdout",
     "output_type": "stream",
     "text": [
      "[5, 5, 5, 5]\n"
     ]
    }
   ],
   "source": [
    "l1=[1,2,3,4]\n",
    "l2=[4,3,2,1]\n",
    "n1=[]\n",
    "for i,j in zip(l1,l2): #zip is used to handle two or more iterables togeter to run two list together\n",
    "    n1.append(i+j)\n",
    "print(n1)\n",
    "\n"
   ]
  },
  {
   "cell_type": "markdown",
   "metadata": {},
   "source": [
    "create a list where every element is a square of the element in existing list "
   ]
  },
  {
   "cell_type": "code",
   "execution_count": null,
   "metadata": {},
   "outputs": [
    {
     "name": "stdout",
     "output_type": "stream",
     "text": [
      "[1, 2, 3, 4, 5]\n",
      "[1, 4, 9, 16, 25]\n"
     ]
    }
   ],
   "source": [
    "l1=[1,2,3,4,5]\n",
    "n1=[]\n",
    "for i in l1:\n",
    "    n1.append(i*i)     # append is used to add the items in new list\n",
    "print(l1)\n",
    "print(n1)    "
   ]
  },
  {
   "cell_type": "markdown",
   "metadata": {},
   "source": [
    "to create a list where every odd element is a square of element from exisiting list "
   ]
  },
  {
   "cell_type": "code",
   "execution_count": null,
   "metadata": {},
   "outputs": [
    {
     "name": "stdout",
     "output_type": "stream",
     "text": [
      "[1, 2, 3, 4, 5]\n",
      "[1, 9, 25]\n"
     ]
    }
   ],
   "source": [
    "l1=[1,2,3,4,5]\n",
    "n1=[]\n",
    "for i in l1:\n",
    "  if (i%2!=0): #this is used to find odd number\n",
    "    n1.append(i**2)\n",
    "print(l1)\n",
    "print(n1)    \n",
    "    "
   ]
  },
  {
   "cell_type": "markdown",
   "metadata": {},
   "source": [
    "crete an abbriviation list from an exisiting list of words\n",
    "for eg - United State - US"
   ]
  },
  {
   "cell_type": "code",
   "execution_count": null,
   "metadata": {},
   "outputs": [
    {
     "name": "stdout",
     "output_type": "stream",
     "text": [
      "['US', 'PM', 'SE', 'DA']\n"
     ]
    }
   ],
   "source": [
    "words = ['United States','Project Manager','Software Engineer','Data Analyst']\n",
    "new = []\n",
    "for item in words:\n",
    "    items= item.split()\n",
    "    s='' #to store temporary answers\n",
    "    for i in items:\n",
    "        s+=i[0]\n",
    "    new.append(s)  \n",
    "print(new)      "
   ]
  },
  {
   "cell_type": "markdown",
   "metadata": {},
   "source": [
    "Take a list from user in one line of input and than remove all the non numeric values from the list than display the cubes of numbers from that list "
   ]
  },
  {
   "cell_type": "code",
   "execution_count": null,
   "metadata": {},
   "outputs": [
    {
     "name": "stdout",
     "output_type": "stream",
     "text": [
      "hello\n"
     ]
    },
    {
     "ename": "AttributeError",
     "evalue": "'list' object has no attribute 'isnumeric'",
     "output_type": "error",
     "traceback": [
      "\u001b[1;31m---------------------------------------------------------------------------\u001b[0m",
      "\u001b[1;31mAttributeError\u001b[0m                            Traceback (most recent call last)",
      "\u001b[1;32mc:\\Users\\hp\\Documents\\Python Data Science\\list.ipynb Cell 12\u001b[0m in \u001b[0;36m<cell line: 4>\u001b[1;34m()\u001b[0m\n\u001b[0;32m      <a href='vscode-notebook-cell:/c%3A/Users/hp/Documents/Python%20Data%20Science/list.ipynb#X15sZmlsZQ%3D%3D?line=3'>4</a>\u001b[0m \u001b[39mfor\u001b[39;00m i \u001b[39min\u001b[39;00m \u001b[39mlist\u001b[39m:\n\u001b[0;32m      <a href='vscode-notebook-cell:/c%3A/Users/hp/Documents/Python%20Data%20Science/list.ipynb#X15sZmlsZQ%3D%3D?line=4'>5</a>\u001b[0m     l\u001b[39m=\u001b[39mi\u001b[39m.\u001b[39msplit()\n\u001b[1;32m----> <a href='vscode-notebook-cell:/c%3A/Users/hp/Documents/Python%20Data%20Science/list.ipynb#X15sZmlsZQ%3D%3D?line=5'>6</a>\u001b[0m     \u001b[39mif\u001b[39;00m l\u001b[39m.\u001b[39;49misnumeric(): \n\u001b[0;32m      <a href='vscode-notebook-cell:/c%3A/Users/hp/Documents/Python%20Data%20Science/list.ipynb#X15sZmlsZQ%3D%3D?line=6'>7</a>\u001b[0m       new\u001b[39m.\u001b[39mappend(\u001b[39mint\u001b[39m(l))\n\u001b[0;32m      <a href='vscode-notebook-cell:/c%3A/Users/hp/Documents/Python%20Data%20Science/list.ipynb#X15sZmlsZQ%3D%3D?line=7'>8</a>\u001b[0m \u001b[39mprint\u001b[39m(new)\n",
      "\u001b[1;31mAttributeError\u001b[0m: 'list' object has no attribute 'isnumeric'"
     ]
    }
   ],
   "source": [
    "list = input(\"enter data seperated with spaces \")\n",
    "print(list)\n",
    "new=[]\n",
    "for i in list:\n",
    "    l=i.split()\n",
    "    for j in l:\n",
    "     if l.isnumeric(): \n",
    "      new.append(int(l))\n",
    "      print(new)\n",
    "#cubes\n",
    "cubes = [i**3 for i in new]\n",
    "print (cubes)      \n",
    "\n"
   ]
  },
  {
   "cell_type": "markdown",
   "metadata": {},
   "source": [
    "List Comprehension\n",
    "\n",
    " is a way to create a list from exisiting list using one line of expression\n",
    "\n",
    "syntax \n",
    "newlist = [expression for item in oldlist]\n",
    " \n",
    "with condition syntax\n",
    "newlist = [expression for item in oldlist and than if condition ] "
   ]
  },
  {
   "cell_type": "code",
   "execution_count": null,
   "metadata": {},
   "outputs": [],
   "source": []
  }
 ],
 "metadata": {
  "kernelspec": {
   "display_name": "Python 3.9.12 ('base')",
   "language": "python",
   "name": "python3"
  },
  "language_info": {
   "codemirror_mode": {
    "name": "ipython",
    "version": 3
   },
   "file_extension": ".py",
   "mimetype": "text/x-python",
   "name": "python",
   "nbconvert_exporter": "python",
   "pygments_lexer": "ipython3",
   "version": "3.9.12"
  },
  "orig_nbformat": 4,
  "vscode": {
   "interpreter": {
    "hash": "79d71d161e7943240a345005223b4b57f09b9732a24e4917a9c0467b3aef16ea"
   }
  }
 },
 "nbformat": 4,
 "nbformat_minor": 2
}
