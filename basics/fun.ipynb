{
 "cells": [
  {
   "cell_type": "code",
   "execution_count": 1,
   "metadata": {},
   "outputs": [
    {
     "name": "stdout",
     "output_type": "stream",
     "text": [
      "HI, I am outside the function\n"
     ]
    }
   ],
   "source": [
    "def hello():\n",
    "    print('This is a function')\n",
    "    print('This is a good function')\n",
    "    print('Forget that this is a function')\n",
    "    print('Bye!')\n",
    "\n",
    "print('HI, I am outside the function')"
   ]
  },
  {
   "cell_type": "code",
   "execution_count": 2,
   "metadata": {},
   "outputs": [
    {
     "name": "stdout",
     "output_type": "stream",
     "text": [
      "This is a function\n",
      "This is a good function\n",
      "Forget that this is a function\n",
      "Bye!\n"
     ]
    }
   ],
   "source": [
    "hello() #()round brackets means calling the fuction\n",
    " #the file running is mentioned in main,ie hello"
   ]
  },
  {
   "cell_type": "code",
   "execution_count": 3,
   "metadata": {},
   "outputs": [
    {
     "name": "stdout",
     "output_type": "stream",
     "text": [
      "This is a function\n",
      "This is a good function\n",
      "Forget that this is a function\n",
      "Bye!\n",
      "This is a function\n",
      "This is a good function\n",
      "Forget that this is a function\n",
      "Bye!\n",
      "This is a function\n",
      "This is a good function\n",
      "Forget that this is a function\n",
      "Bye!\n"
     ]
    }
   ],
   "source": [
    "for i in range(3):\n",
    "    hello()"
   ]
  },
  {
   "cell_type": "markdown",
   "metadata": {},
   "source": [
    "function TO calculate area"
   ]
  },
  {
   "cell_type": "code",
   "execution_count": 4,
   "metadata": {},
   "outputs": [],
   "source": [
    "def area(length,breadth):\n",
    "   ans=length*breadth \n",
    "   return ans #functions will never have print.ithas return values"
   ]
  },
  {
   "cell_type": "code",
   "execution_count": 5,
   "metadata": {},
   "outputs": [
    {
     "data": {
      "text/plain": [
       "25"
      ]
     },
     "execution_count": 5,
     "metadata": {},
     "output_type": "execute_result"
    }
   ],
   "source": [
    "area(5,5) #the result is raw value.it is not getting printed"
   ]
  },
  {
   "cell_type": "code",
   "execution_count": 6,
   "metadata": {},
   "outputs": [
    {
     "name": "stdout",
     "output_type": "stream",
     "text": [
      "the area is 12\n"
     ]
    }
   ],
   "source": [
    "print('the area is',area(4,3))"
   ]
  },
  {
   "cell_type": "code",
   "execution_count": 7,
   "metadata": {},
   "outputs": [
    {
     "name": "stdout",
     "output_type": "stream",
     "text": [
      "16 15\n"
     ]
    }
   ],
   "source": [
    "a=area(4,4)\n",
    "b=area(3,5)\n",
    "print(a,b)"
   ]
  },
  {
   "cell_type": "code",
   "execution_count": 8,
   "metadata": {},
   "outputs": [
    {
     "name": "stdout",
     "output_type": "stream",
     "text": [
      "48\n"
     ]
    }
   ],
   "source": [
    "big_area=area(5,5)+area(2,4)+15  #function in expression\n",
    "print(big_area)"
   ]
  },
  {
   "cell_type": "markdown",
   "metadata": {},
   "source": [
    "fibinacci series....addition of last two digit is is next value.\n",
    "   EG-0,1,1,2,3"
   ]
  },
  {
   "cell_type": "code",
   "execution_count": 9,
   "metadata": {},
   "outputs": [
    {
     "ename": "IndentationError",
     "evalue": "unexpected indent (952991750.py, line 12)",
     "output_type": "error",
     "traceback": [
      "\u001b[1;36m  Input \u001b[1;32mIn [9]\u001b[1;36m\u001b[0m\n\u001b[1;33m    out=[start, start+1] #list with two integers values\u001b[0m\n\u001b[1;37m    ^\u001b[0m\n\u001b[1;31mIndentationError\u001b[0m\u001b[1;31m:\u001b[0m unexpected indent\n"
     ]
    }
   ],
   "source": [
    "def fib(start:int,size: int):#it tells user the starting value should be integer type\n",
    "   #FUNCTION DOCUMENTATION\n",
    "   '''\n",
    "    ###this fibonacci function \n",
    "    -start:pass anumber for the start of fibonacci series\n",
    "    -returns :list of fibonacci series\n",
    "    ```\n",
    "    out=fib(0,10)\n",
    "    print(out)\n",
    "    ```\n",
    "    '''\n",
    "    out=[start, start+1] #list with two integers values\n",
    "    for i in range(size-2):\n",
    "        out.append(out[-1]+out[-2])\n",
    "    return out"
   ]
  },
  {
   "cell_type": "code",
   "execution_count": null,
   "metadata": {},
   "outputs": [],
   "source": [
    "print(fib(0,10))"
   ]
  },
  {
   "cell_type": "markdown",
   "metadata": {},
   "source": [
    "#create a function to calculate to S.I and amount and return them"
   ]
  },
  {
   "cell_type": "code",
   "execution_count": null,
   "metadata": {},
   "outputs": [
    {
     "data": {
      "text/plain": [
       "(120.0, 1120.0)"
      ]
     },
     "execution_count": 18,
     "metadata": {},
     "output_type": "execute_result"
    }
   ],
   "source": [
    "\n",
    "def si(principle,rate,time):\n",
    "    si=(principle*rate *time)/100\n",
    "    amount= si +principle\n",
    "    return si,amount\n",
    "\n",
    "si(1000,3,4)"
   ]
  },
  {
   "cell_type": "code",
   "execution_count": null,
   "metadata": {},
   "outputs": [],
   "source": [
    "import utils"
   ]
  },
  {
   "cell_type": "code",
   "execution_count": null,
   "metadata": {},
   "outputs": [],
   "source": [
    "s='this is that , that is this , what is where , where is what'"
   ]
  },
  {
   "cell_type": "code",
   "execution_count": null,
   "metadata": {},
   "outputs": [
    {
     "ename": "NameError",
     "evalue": "name 'utils' is not defined",
     "output_type": "error",
     "traceback": [
      "\u001b[1;31m---------------------------------------------------------------------------\u001b[0m",
      "\u001b[1;31mNameError\u001b[0m                                 Traceback (most recent call last)",
      "\u001b[1;32mc:\\Users\\hp\\Documents\\Python Data Science\\basics\\fun.ipynb Cell 17\u001b[0m in \u001b[0;36m<cell line: 1>\u001b[1;34m()\u001b[0m\n\u001b[1;32m----> <a href='vscode-notebook-cell:/c%3A/Users/hp/Documents/Python%20Data%20Science/basics/fun.ipynb#X22sZmlsZQ%3D%3D?line=0'>1</a>\u001b[0m utils\u001b[39m.\u001b[39mword_counter(s)\n",
      "\u001b[1;31mNameError\u001b[0m: name 'utils' is not defined"
     ]
    }
   ],
   "source": [
    "utils.word_counter(s)"
   ]
  },
  {
   "cell_type": "code",
   "execution_count": null,
   "metadata": {},
   "outputs": [
    {
     "name": "stdout",
     "output_type": "stream",
     "text": [
      "s 6\n",
      "a 4\n",
      "w 4\n",
      "  9\n",
      "r 2\n",
      "t 8\n",
      "h 8\n",
      "i 6\n",
      "e 4\n",
      ", 3\n"
     ]
    },
    {
     "data": {
      "text/plain": [
       "{'s': 6,\n",
       " 'a': 4,\n",
       " 'w': 4,\n",
       " ' ': 9,\n",
       " 'r': 2,\n",
       " 't': 8,\n",
       " 'h': 8,\n",
       " 'i': 6,\n",
       " 'e': 4,\n",
       " ',': 3}"
      ]
     },
     "execution_count": 5,
     "metadata": {},
     "output_type": "execute_result"
    }
   ],
   "source": [
    "utils.char_counter(s)"
   ]
  },
  {
   "cell_type": "code",
   "execution_count": null,
   "metadata": {},
   "outputs": [],
   "source": []
  }
 ],
 "metadata": {
  "kernelspec": {
   "display_name": "Python 3.9.12 ('base')",
   "language": "python",
   "name": "python3"
  },
  "language_info": {
   "codemirror_mode": {
    "name": "ipython",
    "version": 3
   },
   "file_extension": ".py",
   "mimetype": "text/x-python",
   "name": "python",
   "nbconvert_exporter": "python",
   "pygments_lexer": "ipython3",
   "version": "3.9.12"
  },
  "orig_nbformat": 4,
  "vscode": {
   "interpreter": {
    "hash": "79d71d161e7943240a345005223b4b57f09b9732a24e4917a9c0467b3aef16ea"
   }
  }
 },
 "nbformat": 4,
 "nbformat_minor": 2
}
